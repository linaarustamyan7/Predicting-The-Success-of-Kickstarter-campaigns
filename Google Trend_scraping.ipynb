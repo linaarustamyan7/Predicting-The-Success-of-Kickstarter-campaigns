{
 "cells": [
  {
   "cell_type": "code",
   "execution_count": 1,
   "metadata": {},
   "outputs": [
    {
     "name": "stdout",
     "output_type": "stream",
     "text": [
      "Requirement already up-to-date: pytrends in c:\\users\\l.arustamyan\\anaconda3\\lib\\site-packages (4.7.3)\n",
      "Requirement already satisfied, skipping upgrade: requests in c:\\users\\l.arustamyan\\anaconda3\\lib\\site-packages (from pytrends) (2.22.0)\n",
      "Requirement already satisfied, skipping upgrade: pandas>=0.25 in c:\\users\\l.arustamyan\\anaconda3\\lib\\site-packages (from pytrends) (1.0.1)\n",
      "Requirement already satisfied, skipping upgrade: lxml in c:\\users\\l.arustamyan\\anaconda3\\lib\\site-packages (from pytrends) (4.5.0)\n",
      "Requirement already satisfied, skipping upgrade: urllib3!=1.25.0,!=1.25.1,<1.26,>=1.21.1 in c:\\users\\l.arustamyan\\anaconda3\\lib\\site-packages (from requests->pytrends) (1.25.8)\n",
      "Requirement already satisfied, skipping upgrade: chardet<3.1.0,>=3.0.2 in c:\\users\\l.arustamyan\\anaconda3\\lib\\site-packages (from requests->pytrends) (3.0.4)\n",
      "Requirement already satisfied, skipping upgrade: certifi>=2017.4.17 in c:\\users\\l.arustamyan\\anaconda3\\lib\\site-packages (from requests->pytrends) (2019.11.28)\n",
      "Requirement already satisfied, skipping upgrade: idna<2.9,>=2.5 in c:\\users\\l.arustamyan\\anaconda3\\lib\\site-packages (from requests->pytrends) (2.8)\n",
      "Requirement already satisfied, skipping upgrade: python-dateutil>=2.6.1 in c:\\users\\l.arustamyan\\anaconda3\\lib\\site-packages (from pandas>=0.25->pytrends) (2.8.1)\n",
      "Requirement already satisfied, skipping upgrade: pytz>=2017.2 in c:\\users\\l.arustamyan\\anaconda3\\lib\\site-packages (from pandas>=0.25->pytrends) (2019.3)\n",
      "Requirement already satisfied, skipping upgrade: numpy>=1.13.3 in c:\\users\\l.arustamyan\\anaconda3\\lib\\site-packages (from pandas>=0.25->pytrends) (1.18.1)\n",
      "Requirement already satisfied, skipping upgrade: six>=1.5 in c:\\users\\l.arustamyan\\anaconda3\\lib\\site-packages (from python-dateutil>=2.6.1->pandas>=0.25->pytrends) (1.14.0)\n"
     ]
    }
   ],
   "source": [
    "!pip install pytrends --upgrade"
   ]
  },
  {
   "cell_type": "code",
   "execution_count": 1,
   "metadata": {},
   "outputs": [],
   "source": [
    "\n",
    "from pytrends.request import TrendReq\n",
    "import pandas as pd\n",
    "import time"
   ]
  },
  {
   "cell_type": "code",
   "execution_count": 2,
   "metadata": {},
   "outputs": [],
   "source": [
    "startTime = time.time()\n",
    "pytrend = TrendReq(hl='en-GB', tz=360)"
   ]
  },
  {
   "cell_type": "code",
   "execution_count": 3,
   "metadata": {},
   "outputs": [],
   "source": [
    "# Importing the list of categories of the projects \n",
    "df = pd.read_csv(\"keyword_list.csv\")\n",
    "df2 = df[\"Keywords\"].values.tolist()\n",
    "df3 = df[\"start date\"].values.tolist()\n",
    "df4 = df[\"end date\"].values.tolist()\n",
    "\n"
   ]
  },
  {
   "cell_type": "code",
   "execution_count": 5,
   "metadata": {},
   "outputs": [],
   "source": [
    "\n",
    "# Scraping the average amount of google searches of projects starting in 2018 and ending in 2019\n",
    "\n",
    "dataset = []\n",
    "months = ['Jan', 'Feb', 'Mar', 'Apr', 'May', 'Jun', 'Jul', 'Aug', 'Sep', 'Oct', 'Nov', 'Dec']\n",
    "\n",
    "def toDate_s(monthFormat):\n",
    "    arr = monthFormat.split('-')\n",
    "    month = arr[1]\n",
    "    day = [i for i in arr[0] if i.isdigit()]\n",
    "    day = int(\"\".join(day))\n",
    "    monthIndex = months.index(month) + 1\n",
    "    if (monthIndex < 10):\n",
    "        monthIndex = '0' + str(monthIndex)\n",
    "    if (int(day) < 10):\n",
    "        day = '0' + str(day)\n",
    "    return '2018-' + str(monthIndex) + '-' + str(day)\n",
    "\n",
    "def toDate_e(monthFormat):\n",
    "    arr = monthFormat.split('-')\n",
    "    month = arr[1]\n",
    "    day = [i for i in arr[0] if i.isdigit()]\n",
    "    day = int(\"\".join(day))\n",
    "    monthIndex = months.index(month) + 1\n",
    "    if (monthIndex < 10):\n",
    "        monthIndex = '0' + str(monthIndex)\n",
    "    if (int(day) < 10):\n",
    "        day = '0' + str(day)\n",
    "    return '2019-' + str(monthIndex) + '-' + str(day)\n",
    "\n",
    "def average(el):\n",
    "    arr = []\n",
    "    df = el.values.tolist()\n",
    "    for i in df:\n",
    "        arr.append(i[0])\n",
    "    arr\n",
    "    average = sum(arr)/len(arr)\n",
    "    return int(average)\n",
    "\n",
    "for x in range(0,len(df2)):\n",
    "     keywords = [df2[x]]\n",
    "     start_date = toDate_s(df3[x])\n",
    "     end_date = toDate_e(df4[x])\n",
    "     \n",
    "     pytrend.build_payload(\n",
    "     kw_list=keywords,\n",
    "     cat=0,\n",
    "     timeframe= start_date + ' ' + end_date,\n",
    "     geo='GB')\n",
    "     \n",
    "     data = pytrend.interest_over_time()\n",
    " \n",
    "     if not data.empty:\n",
    "          data = data.drop(labels=['isPartial'],axis='columns')\n",
    "          dataset.append(data)"
   ]
  },
  {
   "cell_type": "code",
   "execution_count": 36,
   "metadata": {},
   "outputs": [],
   "source": [
    "# For projects starting and ending in 2019 (the same code is applicable for 2020 and 2021 projects)\n",
    "dataset = []\n",
    "months = ['Jan', 'Feb', 'Mar', 'Apr', 'May', 'Jun', 'Jul', 'Aug', 'Sep', 'Oct', 'Nov', 'Dec']\n",
    "\n",
    "def toDate(monthFormat):\n",
    "    arr = monthFormat.split('-')\n",
    "    month = arr[1]\n",
    "    day = [i for i in arr[0] if i.isdigit()]\n",
    "    day = int(\"\".join(day))\n",
    "    monthIndex = months.index(month) + 1\n",
    "    if (monthIndex < 10):\n",
    "        monthIndex = '0' + str(monthIndex)\n",
    "    if (int(day) < 10):\n",
    "        day = '0' + str(day)\n",
    "    return '2019-' + str(monthIndex) + '-' + str(day)\n",
    "\n",
    "\n",
    "\n",
    "def average(el):\n",
    "    arr = []\n",
    "    df = el.values.tolist()\n",
    "    for i in df:\n",
    "        arr.append(i[0])\n",
    "    arr\n",
    "    average = sum(arr)/len(arr)\n",
    "    return int(average)\n",
    "\n",
    "for x in range(4600,len(df2)):\n",
    "     keywords = [df2[x]]\n",
    "     start_date = toDate(df3[x])\n",
    "     end_date = toDate(df4[x])\n",
    "     \n",
    "     pytrend.build_payload(\n",
    "     kw_list=keywords,\n",
    "     cat=0,\n",
    "     timeframe= start_date + ' ' + end_date,\n",
    "     geo='GB')\n",
    "     \n",
    "     data = pytrend.interest_over_time()\n",
    " \n",
    "     if not data.empty:\n",
    "          data = data.drop(labels=['isPartial'],axis='columns')\n",
    "          dataset.append(data)\n",
    "        \n"
   ]
  },
  {
   "cell_type": "code",
   "execution_count": 6,
   "metadata": {},
   "outputs": [],
   "source": [
    "# Creating a list of averages for all projects (category names)\n",
    "averages = []\n",
    "for y in dataset:\n",
    "    averages.append(average(y))"
   ]
  },
  {
   "cell_type": "code",
   "execution_count": 9,
   "metadata": {},
   "outputs": [],
   "source": [
    "googletrends = pd.DataFrame.from_dict(averages)"
   ]
  },
  {
   "cell_type": "code",
   "execution_count": 10,
   "metadata": {},
   "outputs": [],
   "source": [
    "googletrends.to_csv(\"gtr.csv\")"
   ]
  }
 ],
 "metadata": {
  "kernelspec": {
   "display_name": "Python 3",
   "language": "python",
   "name": "python3"
  },
  "language_info": {
   "codemirror_mode": {
    "name": "ipython",
    "version": 3
   },
   "file_extension": ".py",
   "mimetype": "text/x-python",
   "name": "python",
   "nbconvert_exporter": "python",
   "pygments_lexer": "ipython3",
   "version": "3.7.6"
  }
 },
 "nbformat": 4,
 "nbformat_minor": 4
}
